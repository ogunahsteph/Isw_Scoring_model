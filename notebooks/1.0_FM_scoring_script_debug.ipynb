{
 "cells": [
  {
   "cell_type": "code",
   "execution_count": 1,
   "id": "34b9437b-1908-4bdd-8c97-0846dcc98b24",
   "metadata": {},
   "outputs": [],
   "source": [
    "import sys\n",
    "\n",
    "sys.path.insert(0, '../')\n",
    "from src.models.scoring_pipeline_interswitch_uganda import *"
   ]
  },
  {
   "cell_type": "code",
   "execution_count": 2,
   "id": "4ec87700-c3cd-4d95-8638-90b09e1fe9de",
   "metadata": {},
   "outputs": [],
   "source": [
    "pd.set_option('display.max_columns', None)"
   ]
  },
  {
   "cell_type": "code",
   "execution_count": 3,
   "id": "179ca85d-90bc-43f2-ba0a-2431beef399d",
   "metadata": {},
   "outputs": [],
   "source": [
    "args = argparse.ArgumentParser()\n",
    "args.add_argument(\"--config\", default = f\"../params.yaml\")\n",
    "parsed_args = vars(args.parse_args(\"\"))\n",
    "config_path = parsed_args['config']"
   ]
  },
  {
   "cell_type": "code",
   "execution_count": 4,
   "id": "812be115-cb51-468c-adee-56a87c9d960c",
   "metadata": {},
   "outputs": [],
   "source": [
    "config = read_params(config_path)\n",
    "terminal_ids = config[\"test_config\"][\"terminal_ids\"]"
   ]
  },
  {
   "cell_type": "code",
   "execution_count": 5,
   "id": "826bbf81-ef4b-4ef0-b1d8-c36155fae12a",
   "metadata": {},
   "outputs": [
    {
     "name": "stderr",
     "output_type": "stream",
     "text": [
      "11:20:02: Scoring 3IS06915 ...\n",
      "11:20:02: Pull raw data ...\n"
     ]
    },
    {
     "name": "stdout",
     "output_type": "stream",
     "text": [
      "\n"
     ]
    },
    {
     "name": "stderr",
     "output_type": "stream",
     "text": [
      "11:20:06: Upload clean data ...\n",
      "/home/jupyter-stephen.oguna/jupyter-notebooks/UGANDA/Tracker/ug_interswitch/notebooks/../src/data/interswitch_uganda.py:69: FutureWarning: The provided callable <built-in function min> is currently using SeriesGroupBy.min. In a future version of pandas, the provided callable will be used directly. To keep current behavior pass 'min' instead.\n",
      "  negative_balances_summaries_last_6_months = debits_df_last_6_months_negative_balances.groupby('terminal').agg(\n",
      "/home/jupyter-stephen.oguna/jupyter-notebooks/UGANDA/Tracker/ug_interswitch/notebooks/../src/data/interswitch_uganda.py:69: FutureWarning: The provided callable <built-in function max> is currently using SeriesGroupBy.max. In a future version of pandas, the provided callable will be used directly. To keep current behavior pass 'max' instead.\n",
      "  negative_balances_summaries_last_6_months = debits_df_last_6_months_negative_balances.groupby('terminal').agg(\n",
      "/home/jupyter-stephen.oguna/jupyter-notebooks/UGANDA/Tracker/ug_interswitch/notebooks/../src/data/interswitch_uganda.py:69: FutureWarning: The provided callable <built-in function min> is currently using SeriesGroupBy.min. In a future version of pandas, the provided callable will be used directly. To keep current behavior pass 'min' instead.\n",
      "  negative_balances_summaries_last_6_months = debits_df_last_6_months_negative_balances.groupby('terminal').agg(\n",
      "/home/jupyter-stephen.oguna/jupyter-notebooks/UGANDA/Tracker/ug_interswitch/notebooks/../src/data/interswitch_uganda.py:78: FutureWarning: The provided callable <built-in function sum> is currently using SeriesGroupBy.sum. In a future version of pandas, the provided callable will be used directly. To keep current behavior pass 'sum' instead.\n",
      "  agent_summaries_last_6_months = debits_df_last_6_months_without_negative_balances.groupby('terminal').agg(\n",
      "/home/jupyter-stephen.oguna/jupyter-notebooks/UGANDA/Tracker/ug_interswitch/notebooks/../src/data/interswitch_uganda.py:78: FutureWarning: The provided callable <built-in function min> is currently using SeriesGroupBy.min. In a future version of pandas, the provided callable will be used directly. To keep current behavior pass 'min' instead.\n",
      "  agent_summaries_last_6_months = debits_df_last_6_months_without_negative_balances.groupby('terminal').agg(\n",
      "/home/jupyter-stephen.oguna/jupyter-notebooks/UGANDA/Tracker/ug_interswitch/notebooks/../src/data/interswitch_uganda.py:78: FutureWarning: The provided callable <built-in function max> is currently using SeriesGroupBy.max. In a future version of pandas, the provided callable will be used directly. To keep current behavior pass 'max' instead.\n",
      "  agent_summaries_last_6_months = debits_df_last_6_months_without_negative_balances.groupby('terminal').agg(\n",
      "11:20:07: Pull customer info ...\n"
     ]
    },
    {
     "ename": "TypeError",
     "evalue": "argument should be a bytes-like object or ASCII string, not 'NoneType'",
     "output_type": "error",
     "traceback": [
      "\u001b[0;31m---------------------------------------------------------------------------\u001b[0m",
      "\u001b[0;31mTypeError\u001b[0m                                 Traceback (most recent call last)",
      "Cell \u001b[0;32mIn[5], line 5\u001b[0m\n\u001b[1;32m      2\u001b[0m agent_id \u001b[38;5;241m=\u001b[39m \u001b[38;5;124m'\u001b[39m\u001b[38;5;124m3IS06915\u001b[39m\u001b[38;5;124m'\u001b[39m\n\u001b[1;32m      4\u001b[0m \u001b[38;5;66;03m# trigger_scoring_script(config_path, agent_id=agent_id)\u001b[39;00m\n\u001b[0;32m----> 5\u001b[0m \u001b[43mtrigger_scoring\u001b[49m\u001b[43m(\u001b[49m\u001b[43mconfig_path\u001b[49m\u001b[43m,\u001b[49m\u001b[43m \u001b[49m\u001b[43magent_id\u001b[49m\u001b[38;5;241;43m=\u001b[39;49m\u001b[43magent_id\u001b[49m\u001b[43m)\u001b[49m\n\u001b[1;32m      6\u001b[0m pass_generated_limits_to_engineering(config_path, agent_id\u001b[38;5;241m=\u001b[39magent_id)\n\u001b[1;32m      7\u001b[0m \u001b[38;5;28mprint\u001b[39m(\u001b[38;5;124m'\u001b[39m\u001b[38;5;124m=============================================================================================================================================================================\u001b[39m\u001b[38;5;124m'\u001b[39m)\n",
      "File \u001b[0;32m~/jupyter-notebooks/UGANDA/Tracker/ug_interswitch/notebooks/../src/data/interswitch_uganda.py:1078\u001b[0m, in \u001b[0;36mtrigger_scoring\u001b[0;34m(config_path, agent_id)\u001b[0m\n\u001b[1;32m   1076\u001b[0m raw_data \u001b[38;5;241m=\u001b[39m combine_files(config_path, agent_id)\n\u001b[1;32m   1077\u001b[0m \u001b[38;5;28;01mif\u001b[39;00m raw_data \u001b[38;5;129;01mis\u001b[39;00m \u001b[38;5;129;01mnot\u001b[39;00m \u001b[38;5;28;01mNone\u001b[39;00m:\n\u001b[0;32m-> 1078\u001b[0m     failure_reason \u001b[38;5;241m=\u001b[39m \u001b[43mget_scoring_results\u001b[49m\u001b[43m(\u001b[49m\u001b[43mconfig_path\u001b[49m\u001b[43m,\u001b[49m\u001b[43m \u001b[49m\u001b[43mraw_data\u001b[49m\u001b[38;5;241;43m=\u001b[39;49m\u001b[43mraw_data\u001b[49m\u001b[43m)\u001b[49m\n\u001b[1;32m   1079\u001b[0m     \u001b[38;5;28;01mreturn\u001b[39;00m \u001b[38;5;28;01mTrue\u001b[39;00m\n\u001b[1;32m   1080\u001b[0m \u001b[38;5;28;01melse\u001b[39;00m:\n",
      "File \u001b[0;32m~/jupyter-notebooks/UGANDA/Tracker/ug_interswitch/notebooks/../src/data/interswitch_uganda.py:871\u001b[0m, in \u001b[0;36mget_scoring_results\u001b[0;34m(config_path, raw_data)\u001b[0m\n\u001b[1;32m    868\u001b[0m agent_summaries_last_6_months \u001b[38;5;241m=\u001b[39m calculate_6_months_scoring_summaries(raw_data)\n\u001b[1;32m    869\u001b[0m summaries_data \u001b[38;5;241m=\u001b[39m pd\u001b[38;5;241m.\u001b[39mmerge(commissions_summaries, agent_summaries_last_6_months, on\u001b[38;5;241m=\u001b[39m\u001b[38;5;124m'\u001b[39m\u001b[38;5;124mterminal\u001b[39m\u001b[38;5;124m'\u001b[39m)\n\u001b[0;32m--> 871\u001b[0m client_data \u001b[38;5;241m=\u001b[39m \u001b[43mload_staging_db_data\u001b[49m\u001b[43m(\u001b[49m\u001b[43mconfig_path\u001b[49m\u001b[43m,\u001b[49m\u001b[43m \u001b[49m\u001b[43mterminal_id\u001b[49m\u001b[38;5;241;43m=\u001b[39;49m\u001b[43mraw_data\u001b[49m\u001b[38;5;241;43m.\u001b[39;49m\u001b[43miloc\u001b[49m\u001b[43m[\u001b[49m\u001b[38;5;241;43m0\u001b[39;49m\u001b[43m]\u001b[49m\u001b[43m[\u001b[49m\u001b[38;5;124;43m'\u001b[39;49m\u001b[38;5;124;43mterminal\u001b[39;49m\u001b[38;5;124;43m'\u001b[39;49m\u001b[43m]\u001b[49m\u001b[43m)\u001b[49m\n\u001b[1;32m    873\u001b[0m \u001b[38;5;28;01mif\u001b[39;00m commissions_summaries\u001b[38;5;241m.\u001b[39mshape[\u001b[38;5;241m0\u001b[39m] \u001b[38;5;241m==\u001b[39m \u001b[38;5;241m0\u001b[39m:\n\u001b[1;32m    874\u001b[0m     failure_reason \u001b[38;5;241m=\u001b[39m \u001b[38;5;124m'\u001b[39m\u001b[38;5;124mClient does not have commission payments\u001b[39m\u001b[38;5;124m'\u001b[39m\n",
      "File \u001b[0;32m~/jupyter-notebooks/UGANDA/Tracker/ug_interswitch/notebooks/../src/data/interswitch_uganda.py:245\u001b[0m, in \u001b[0;36mload_staging_db_data\u001b[0;34m(config_path, terminal_id)\u001b[0m\n\u001b[1;32m    241\u001b[0m logging\u001b[38;5;241m.\u001b[39mwarning(\u001b[38;5;124mf\u001b[39m\u001b[38;5;124m'\u001b[39m\u001b[38;5;124mPull customer info ...\u001b[39m\u001b[38;5;124m'\u001b[39m)\n\u001b[1;32m    242\u001b[0m sql_cust_info \u001b[38;5;241m=\u001b[39m \u001b[38;5;124mf\u001b[39m\u001b[38;5;124m\"\"\"\u001b[39m\n\u001b[1;32m    243\u001b[0m \u001b[38;5;124m    SELECT TerminalId as terminal, MifosClientId as client_id FROM Customers where TerminalId = %(terminal_id)s\u001b[39m\n\u001b[1;32m    244\u001b[0m \u001b[38;5;124m    \u001b[39m\u001b[38;5;124m\"\"\"\u001b[39m\n\u001b[0;32m--> 245\u001b[0m cust_info \u001b[38;5;241m=\u001b[39m \u001b[43mquery_dwh\u001b[49m\u001b[43m(\u001b[49m\u001b[43msql_cust_info\u001b[49m\u001b[43m,\u001b[49m\u001b[43m \u001b[49m\u001b[43mdwh_credentials\u001b[49m\u001b[43m,\u001b[49m\u001b[43m \u001b[49m\u001b[43mprefix\u001b[49m\u001b[43m,\u001b[49m\u001b[43m \u001b[49m\u001b[43mproject_dir\u001b[49m\u001b[43m,\u001b[49m\u001b[43m \u001b[49m\u001b[43m{\u001b[49m\u001b[38;5;124;43m'\u001b[39;49m\u001b[38;5;124;43mterminal_id\u001b[39;49m\u001b[38;5;124;43m'\u001b[39;49m\u001b[43m:\u001b[49m\u001b[43m \u001b[49m\u001b[43mterminal_id\u001b[49m\u001b[43m}\u001b[49m\u001b[43m)\u001b[49m\n\u001b[1;32m    247\u001b[0m \u001b[38;5;66;03m# return df\u001b[39;00m\n\u001b[1;32m    248\u001b[0m \u001b[38;5;28;01mreturn\u001b[39;00m cust_info\n",
      "File \u001b[0;32m~/jupyter-notebooks/UGANDA/Tracker/ug_interswitch/notebooks/../src/utilities/db.py:107\u001b[0m, in \u001b[0;36mquery_dwh\u001b[0;34m(sql, dwh_credentials, prefix, project_dir, kwargs)\u001b[0m\n\u001b[1;32m    106\u001b[0m \u001b[38;5;28;01mdef\u001b[39;00m \u001b[38;5;21mquery_dwh\u001b[39m(sql, dwh_credentials, prefix, project_dir, kwargs\u001b[38;5;241m=\u001b[39m\u001b[38;5;28;01mNone\u001b[39;00m):\n\u001b[0;32m--> 107\u001b[0m     conn \u001b[38;5;241m=\u001b[39m \u001b[43mdb_connection\u001b[49m\u001b[43m(\u001b[49m\u001b[43mdwh_credentials\u001b[49m\u001b[43m,\u001b[49m\u001b[43m \u001b[49m\u001b[43mprefix\u001b[49m\u001b[43m,\u001b[49m\u001b[43m \u001b[49m\u001b[43mproject_dir\u001b[49m\u001b[43m)\u001b[49m\n\u001b[1;32m    108\u001b[0m     df \u001b[38;5;241m=\u001b[39m pd\u001b[38;5;241m.\u001b[39mread_sql(sql, conn, params\u001b[38;5;241m=\u001b[39mkwargs)\n\u001b[1;32m    110\u001b[0m     \u001b[38;5;28;01mreturn\u001b[39;00m df\n",
      "File \u001b[0;32m~/jupyter-notebooks/UGANDA/Tracker/ug_interswitch/notebooks/../src/utilities/db.py:86\u001b[0m, in \u001b[0;36mdb_connection\u001b[0;34m(dwh_credentials, prefix, project_dir)\u001b[0m\n\u001b[1;32m     84\u001b[0m \u001b[38;5;28;01mdef\u001b[39;00m \u001b[38;5;21mdb_connection\u001b[39m(dwh_credentials, prefix, project_dir):\n\u001b[1;32m     85\u001b[0m     \u001b[38;5;66;03m# Decrypt credentials\u001b[39;00m\n\u001b[0;32m---> 86\u001b[0m     dwh_credentials_decrypted \u001b[38;5;241m=\u001b[39m \u001b[43mdecrypt_credentials\u001b[49m\u001b[43m(\u001b[49m\u001b[43mdwh_credentials\u001b[49m\u001b[43m,\u001b[49m\u001b[43m \u001b[49m\u001b[43mprefix\u001b[49m\u001b[43m,\u001b[49m\u001b[43m \u001b[49m\u001b[43mproject_dir\u001b[49m\u001b[43m)\u001b[49m\n\u001b[1;32m     87\u001b[0m     host \u001b[38;5;241m=\u001b[39m dwh_credentials_decrypted[\u001b[38;5;124mf\u001b[39m\u001b[38;5;124m'\u001b[39m\u001b[38;5;132;01m{\u001b[39;00mprefix\u001b[38;5;132;01m}\u001b[39;00m\u001b[38;5;124m_HOST\u001b[39m\u001b[38;5;124m'\u001b[39m]\n\u001b[1;32m     88\u001b[0m     port \u001b[38;5;241m=\u001b[39m dwh_credentials_decrypted[\u001b[38;5;124mf\u001b[39m\u001b[38;5;124m'\u001b[39m\u001b[38;5;132;01m{\u001b[39;00mprefix\u001b[38;5;132;01m}\u001b[39;00m\u001b[38;5;124m_PORT\u001b[39m\u001b[38;5;124m'\u001b[39m]\n",
      "File \u001b[0;32m~/jupyter-notebooks/UGANDA/Tracker/ug_interswitch/notebooks/../src/utilities/db.py:79\u001b[0m, in \u001b[0;36mdecrypt_credentials\u001b[0;34m(dwh_credentials, prefix, project_dir)\u001b[0m\n\u001b[1;32m     75\u001b[0m dwh_credentials_decrypted \u001b[38;5;241m=\u001b[39m {}\n\u001b[1;32m     76\u001b[0m \u001b[38;5;28;01mfor\u001b[39;00m e \u001b[38;5;129;01min\u001b[39;00m dwh_credentials[\u001b[38;5;124mf\u001b[39m\u001b[38;5;124m'\u001b[39m\u001b[38;5;132;01m{\u001b[39;00mprefix\u001b[38;5;241m.\u001b[39mlower()\u001b[38;5;132;01m}\u001b[39;00m\u001b[38;5;124m_env\u001b[39m\u001b[38;5;124m'\u001b[39m]:\n\u001b[1;32m     77\u001b[0m     \u001b[38;5;66;03m# print(e)\u001b[39;00m\n\u001b[1;32m     78\u001b[0m     \u001b[38;5;66;03m# print(os.getenv(e))\u001b[39;00m\n\u001b[0;32m---> 79\u001b[0m     dwh_credentials_decrypted[e] \u001b[38;5;241m=\u001b[39m \u001b[43mbase64\u001b[49m\u001b[38;5;241;43m.\u001b[39;49m\u001b[43mb64decode\u001b[49m\u001b[43m(\u001b[49m\u001b[43mos\u001b[49m\u001b[38;5;241;43m.\u001b[39;49m\u001b[43mgetenv\u001b[49m\u001b[43m(\u001b[49m\u001b[43me\u001b[49m\u001b[43m)\u001b[49m\u001b[43m)\u001b[49m\u001b[38;5;241m.\u001b[39mdecode(\u001b[38;5;124m\"\u001b[39m\u001b[38;5;124mutf-8\u001b[39m\u001b[38;5;124m\"\u001b[39m)\n\u001b[1;32m     81\u001b[0m \u001b[38;5;28;01mreturn\u001b[39;00m dwh_credentials_decrypted\n",
      "File \u001b[0;32m/opt/anaconda3/lib/python3.10/base64.py:80\u001b[0m, in \u001b[0;36mb64decode\u001b[0;34m(s, altchars, validate)\u001b[0m\n\u001b[1;32m     65\u001b[0m \u001b[38;5;28;01mdef\u001b[39;00m \u001b[38;5;21mb64decode\u001b[39m(s, altchars\u001b[38;5;241m=\u001b[39m\u001b[38;5;28;01mNone\u001b[39;00m, validate\u001b[38;5;241m=\u001b[39m\u001b[38;5;28;01mFalse\u001b[39;00m):\n\u001b[1;32m     66\u001b[0m \u001b[38;5;250m    \u001b[39m\u001b[38;5;124;03m\"\"\"Decode the Base64 encoded bytes-like object or ASCII string s.\u001b[39;00m\n\u001b[1;32m     67\u001b[0m \n\u001b[1;32m     68\u001b[0m \u001b[38;5;124;03m    Optional altchars must be a bytes-like object or ASCII string of length 2\u001b[39;00m\n\u001b[0;32m   (...)\u001b[0m\n\u001b[1;32m     78\u001b[0m \u001b[38;5;124;03m    in the input result in a binascii.Error.\u001b[39;00m\n\u001b[1;32m     79\u001b[0m \u001b[38;5;124;03m    \"\"\"\u001b[39;00m\n\u001b[0;32m---> 80\u001b[0m     s \u001b[38;5;241m=\u001b[39m \u001b[43m_bytes_from_decode_data\u001b[49m\u001b[43m(\u001b[49m\u001b[43ms\u001b[49m\u001b[43m)\u001b[49m\n\u001b[1;32m     81\u001b[0m     \u001b[38;5;28;01mif\u001b[39;00m altchars \u001b[38;5;129;01mis\u001b[39;00m \u001b[38;5;129;01mnot\u001b[39;00m \u001b[38;5;28;01mNone\u001b[39;00m:\n\u001b[1;32m     82\u001b[0m         altchars \u001b[38;5;241m=\u001b[39m _bytes_from_decode_data(altchars)\n",
      "File \u001b[0;32m/opt/anaconda3/lib/python3.10/base64.py:45\u001b[0m, in \u001b[0;36m_bytes_from_decode_data\u001b[0;34m(s)\u001b[0m\n\u001b[1;32m     43\u001b[0m     \u001b[38;5;28;01mreturn\u001b[39;00m \u001b[38;5;28mmemoryview\u001b[39m(s)\u001b[38;5;241m.\u001b[39mtobytes()\n\u001b[1;32m     44\u001b[0m \u001b[38;5;28;01mexcept\u001b[39;00m \u001b[38;5;167;01mTypeError\u001b[39;00m:\n\u001b[0;32m---> 45\u001b[0m     \u001b[38;5;28;01mraise\u001b[39;00m \u001b[38;5;167;01mTypeError\u001b[39;00m(\u001b[38;5;124m\"\u001b[39m\u001b[38;5;124margument should be a bytes-like object or ASCII \u001b[39m\u001b[38;5;124m\"\u001b[39m\n\u001b[1;32m     46\u001b[0m                     \u001b[38;5;124m\"\u001b[39m\u001b[38;5;124mstring, not \u001b[39m\u001b[38;5;132;01m%r\u001b[39;00m\u001b[38;5;124m\"\u001b[39m \u001b[38;5;241m%\u001b[39m s\u001b[38;5;241m.\u001b[39m\u001b[38;5;18m__class__\u001b[39m\u001b[38;5;241m.\u001b[39m\u001b[38;5;18m__name__\u001b[39m) \u001b[38;5;28;01mfrom\u001b[39;00m \u001b[38;5;28;01mNone\u001b[39;00m\n",
      "\u001b[0;31mTypeError\u001b[0m: argument should be a bytes-like object or ASCII string, not 'NoneType'"
     ]
    }
   ],
   "source": [
    "# Validate limit reason\n",
    "agent_id = '3IS06915'\n",
    "\n",
    "# trigger_scoring_script(config_path, agent_id=agent_id)\n",
    "trigger_scoring(config_path, agent_id=agent_id)\n",
    "pass_generated_limits_to_engineering(config_path, agent_id=agent_id)\n",
    "print('=============================================================================================================================================================================')"
   ]
  },
  {
   "cell_type": "code",
   "execution_count": null,
   "id": "d572da66-34ae-406e-bec4-4c96a78076cc",
   "metadata": {},
   "outputs": [],
   "source": [
    "for terminal_id in terminal_ids:\n",
    "    # trigger_scoring_script(config_path, agent_id=terminal_id)\n",
    "    trigger_scoring(config_path, agent_id=terminal_id)\n",
    "    pass_generated_limits_to_engineering(config_path, agent_id=terminal_id)\n",
    "    print('=============================================================================================================================================================================')"
   ]
  },
  {
   "cell_type": "code",
   "execution_count": null,
   "id": "ced6e7d0-e131-4451-b951-b67e3578f49e",
   "metadata": {},
   "outputs": [],
   "source": []
  },
  {
   "cell_type": "code",
   "execution_count": null,
   "id": "d55fc12d-f207-4eae-8810-38dd45553aab",
   "metadata": {},
   "outputs": [],
   "source": []
  },
  {
   "cell_type": "code",
   "execution_count": null,
   "id": "9faeaffe-50df-4fb9-98eb-4b77b25191fd",
   "metadata": {},
   "outputs": [],
   "source": []
  }
 ],
 "metadata": {
  "kernelspec": {
   "display_name": "Python 3 (ipykernel)",
   "language": "python",
   "name": "python3"
  },
  "language_info": {
   "codemirror_mode": {
    "name": "ipython",
    "version": 3
   },
   "file_extension": ".py",
   "mimetype": "text/x-python",
   "name": "python",
   "nbconvert_exporter": "python",
   "pygments_lexer": "ipython3",
   "version": "3.10.10"
  }
 },
 "nbformat": 4,
 "nbformat_minor": 5
}
